{
 "cells": [
  {
   "cell_type": "code",
   "execution_count": 1,
   "metadata": {
    "collapsed": false
   },
   "outputs": [],
   "source": [
    "import os\n",
    "import pickle\n",
    "import math\n",
    "import gc\n",
    "\n",
    "from Parser import *\n",
    "from Classifier import *"
   ]
  },
  {
   "cell_type": "code",
   "execution_count": 2,
   "metadata": {
    "collapsed": false
   },
   "outputs": [],
   "source": [
    "class DictionaryUtils:\n",
    "    #Append new data to existing dictionary/frequency arrays\n",
    "    @staticmethod\n",
    "    def createDictionary(dictionary, frequency, files):\n",
    "        tmpDict = []\n",
    "        tmpFreq = []\n",
    "        tmpAppends = []\n",
    "                \n",
    "        #Create small dict\n",
    "        for file in files:\n",
    "            for word in file.split(\" \"):\n",
    "                if word in tmpDict:\n",
    "                    tmpFreq[tmpDict.index(word)] += 1\n",
    "                else:\n",
    "                    tmpDict.append(word)\n",
    "                    tmpFreq.append(1)\n",
    "\n",
    "        #Merge old and new dict\n",
    "        for i in xrange(len(tmpDict)):\n",
    "            if tmpDict[i] in dictionary:\n",
    "                frequency[dictionary.index(tmpDict[i])] += tmpFreq[i]\n",
    "            else:\n",
    "                tmpAppends.append(tmpDict[i])\n",
    "                frequency.append(tmpFreq[i])\n",
    "                \n",
    "        return dictionary + tmpAppends, frequency\n",
    "        \n",
    "    @staticmethod\n",
    "    def mutualInformationSummand(fSel, fOpp, tSel, tOpp):\n",
    "        p_xy = 1.0 * fSel / (tSel + tOpp)\n",
    "        p_x = (fSel + fOpp) * 1.0 / (tSel + tOpp)\n",
    "        p_y = tSel * 1.0 / (tSel + tOpp)\n",
    "        if p_xy / (p_x * p_y) > 0:\n",
    "            return p_xy * math.log(p_xy / (p_x * p_y))\n",
    "        else: \n",
    "            return 0\n",
    "    \n",
    "    @staticmethod\n",
    "    def mutualInformation(dSpam, fSpam, dHam, fHam):\n",
    "        mSpam = []\n",
    "        for i in xrange(len(dSpam)):\n",
    "            if dSpam[i] in dHam:\n",
    "                fOpp = fHam[dHam.index(dSpam[i])]\n",
    "            else:\n",
    "                fOpp = 0\n",
    "            MI = DictionaryUtils.mutualInformationSummand(fSpam[i], fOpp, len(dSpam), len(dHam))\n",
    "            MI += DictionaryUtils.mutualInformationSummand(fOpp, fSpam[i], len(dHam), len(dSpam))\n",
    "            mSpam += [{\"word\" : dSpam[i], \"MI\" : MI}]\n",
    "        for i in xrange(len(dHam)):\n",
    "            if dHam[i] not in dSpam:\n",
    "                MI = DictionaryUtils.mutualInformationSummand(fHam[i], 0, len(dHam), len(dSpam))\n",
    "                mSpam += [{\"word\" : dHam[i], \"MI\" : MI}]\n",
    "        return mSpam\n",
    "    \n",
    "    @staticmethod\n",
    "    def dictionaryMI(dSpam, fSpam, dHam, fHam):\n",
    "        MI = DictionaryUtils.mutualInformation(dSpam, fSpam, dHam, fHam)\n",
    "        sMI = sorted(MI, key=lambda k: -k['MI']) \n",
    "        return [i['word'] for i in sMI]\n",
    "        "
   ]
  },
  {
   "cell_type": "code",
   "execution_count": 3,
   "metadata": {
    "collapsed": false
   },
   "outputs": [],
   "source": [
    "class PickledDataProcessing:\n",
    "    #Expand the database from a given pickled file. Merge every mergeAfter messages.\n",
    "    @staticmethod\n",
    "    def crawlMails(dictionary, frequency, dump, breakAfter = -1, mergeAfter = 10000):\n",
    "        i = 0\n",
    "        j = 0\n",
    "        data = pickle.load(open( dump, \"rb\" ))\n",
    "        files = []\n",
    "        for text in data:\n",
    "            content = (Parser.stripHeaders(text)).lower()\n",
    "            files.append(content)\n",
    "            if i == breakAfter:\n",
    "                break;\n",
    "            if j == mergeAfter:\n",
    "                dictionary, frequency = DictionaryUtils.createDictionary(dictionary, frequency, files)\n",
    "                del(files)\n",
    "                files = []\n",
    "                j = -1\n",
    "            i+=1        \n",
    "            j+=1\n",
    "        dictionary, frequency = DictionaryUtils.createDictionary(dictionary, frequency, files)\n",
    "        return dictionary, frequency\n",
    "    \n",
    "    #Load file from given databases. Return it as an input data for classifier parsed with a given parser.\n",
    "    @staticmethod\n",
    "    def loadMails(parser, pickledFile, count = -1):\n",
    "        msgs = []\n",
    "        ctr = 0\n",
    "        for i in pickle.load(open( pickledFile, \"rb\" )):\n",
    "            msgs.append(parser.parseEmail(i))\n",
    "            if (count != -1):\n",
    "                if ctr == count:\n",
    "                    break\n",
    "                ctr += 1\n",
    "                \n",
    "        return msgs\n",
    "        \n",
    "    #Build a dictionary (array) containing all words from given datasets.\n",
    "    @staticmethod\n",
    "    def extractDictionary(pickledData, amount = 2000):\n",
    "        d, f = [], []\n",
    "        for x in pickledData:\n",
    "            d, f = PickledDataProcessing.crawlMails(d, f, x, breakAfter = amount)\n",
    "        \n",
    "        return d, f"
   ]
  },
  {
   "cell_type": "code",
   "execution_count": null,
   "metadata": {
    "collapsed": false
   },
   "outputs": [],
   "source": [
    "#Evaluate the quality of a given classifier on several saved datasets.\n",
    "def evaluateDataset(classifier, parser, pickledDataset, amount = -1):\n",
    "    i = 0\n",
    "    ctr = 0\n",
    "    dataset = pickle.load(open(pickledDataset, \"rb\"))\n",
    "    for x in dataset:\n",
    "        if classifier.evaluate(parser.parseEmail(x)) > 1.0 / 2:\n",
    "            i += 1\n",
    "        ctr += 1\n",
    "        if amount == ctr:\n",
    "            break\n",
    "    if amount == -1:\n",
    "        print \"Dataset length: \" + str(len(dataset))\n",
    "    else:\n",
    "        print \"Dataset length: \" + str(min(len(dataset), amount))\n",
    "    print str(100 * i / ctr) + \"% of given datased was classified as positive!\\n\\r\"\n",
    "    \n",
    "def testClassifier(classifier, parser, label = \"\", amount = -1):\n",
    "    print \"***************\"+ label +\"***************\"\n",
    "    print \"Spamassassin HAM\"\n",
    "    evaluateDataset(classifier, parser, \"../ham.p\", amount)\n",
    "    gc.collect()\n",
    "    print \"Spamassassin SPAM\"\n",
    "    evaluateDataset(classifier, parser, \"../spam.p\", amount)\n",
    "    gc.collect()\n",
    "    print \"Enron HAM\"\n",
    "    evaluateDataset(classifier, parser, \"../Enron/ham.p\", amount)\n",
    "    gc.collect()\n",
    "    print \"Enron SPAM\"\n",
    "    evaluateDataset(classifier, parser, \"../Enron/spam.p\", amount)\n",
    "    gc.collect()\n",
    "    print \"SPAM dataset\"\n",
    "    evaluateDataset(classifier, parser, \"../SPAM/01.p\")\n",
    "    gc.collect()\n",
    "    print \"Classifier evaluation DONE\"\n",
    "    print \"***************\"+ label +\"***************\""
   ]
  },
  {
   "cell_type": "code",
   "execution_count": 5,
   "metadata": {
    "collapsed": true
   },
   "outputs": [],
   "source": [
    "import sys\n",
    "import resource\n",
    "\n",
    "soft, hard = 5.0 * 10**9, 5.0 * 10**9\n",
    "resource.setrlimit(resource.RLIMIT_AS,(soft, hard))"
   ]
  },
  {
   "cell_type": "code",
   "execution_count": 6,
   "metadata": {
    "collapsed": false
   },
   "outputs": [],
   "source": [
    "def buildTesting(pHam, pSpam, learningDataset = 500, label = \"\", dictLength = 250):    \n",
    "    dHam, fHam = PickledDataProcessing.extractDictionary([pHam], learningDataset)\n",
    "    dSpam, fSpam = PickledDataProcessing.extractDictionary([pSpam], learningDataset)\n",
    "    print \"Frequencies/Dictionaries loaded\"\n",
    "\n",
    "    optimziedDictionary = DictionaryUtils.dictionaryMI(dSpam, fSpam, dHam, fHam)[0:dictLength]\n",
    "    parser = Parser(optimziedDictionary)\n",
    "\n",
    "    spam = PickledDataProcessing.loadMails(parser, pSpam, learningDataset)\n",
    "    ham = PickledDataProcessing.loadMails(parser, pHam, learningDataset)\n",
    "    print \"Prepared spam/ham\"\n",
    "    classifier = Classifier(spam + ham, [1] * len(spam) + [0] * len(ham))\n",
    "    testClassifier(classifier, parser, label, 10000)\n",
    "    return classifier, parser"
   ]
  },
  {
   "cell_type": "code",
   "execution_count": 10,
   "metadata": {
    "collapsed": false
   },
   "outputs": [
    {
     "name": "stdout",
     "output_type": "stream",
     "text": [
      "Frequencies/Dictionaries loaded\n",
      "Prepared spam/ham\n",
      "***************Spamassassin dataset***************\n",
      "Spamassassin HAM\n",
      "Dataset length: 2752\n",
      "17% of given datased was classified as positive!\n",
      "\n",
      "Spamassassin SPAM\n",
      "Dataset length: 501\n",
      "99% of given datased was classified as positive!\n",
      "\n",
      "Enron HAM\n",
      "Dataset length: 10000\n",
      "77% of given datased was classified as positive!\n",
      "\n",
      "Enron SPAM\n",
      "Dataset length: 4502\n",
      "88% of given datased was classified as positive!\n",
      "\n",
      "SPAM dataset\n",
      "Dataset length: 35600\n",
      "62% of given datased was classified as positive!\n",
      "\n",
      "Classifier evaluation DONE\n",
      "***************Spamassassin dataset***************\n",
      "Frequencies/Dictionaries loaded\n",
      "Prepared spam/ham\n",
      "***************Enron dataset***************\n",
      "Spamassassin HAM\n",
      "Dataset length: 2752\n",
      "58% of given datased was classified as positive!\n",
      "\n",
      "Spamassassin SPAM\n",
      "Dataset length: 501\n",
      "80% of given datased was classified as positive!\n",
      "\n",
      "Enron HAM\n",
      "Dataset length: 10000\n",
      "11% of given datased was classified as positive!\n",
      "\n",
      "Enron SPAM\n",
      "Dataset length: 4502\n",
      "89% of given datased was classified as positive!\n",
      "\n",
      "SPAM dataset\n",
      "Dataset length: 35600\n",
      "96% of given datased was classified as positive!\n",
      "\n",
      "Classifier evaluation DONE\n",
      "***************Enron dataset***************\n"
     ]
    },
    {
     "data": {
      "text/plain": [
       "(<Classifier.Classifier instance at 0x7f79a0b59248>,\n",
       " <Parser.Parser instance at 0x7f79a0b59998>)"
      ]
     },
     "execution_count": 10,
     "metadata": {},
     "output_type": "execute_result"
    }
   ],
   "source": [
    "buildTesting(\"../ham.p\", \"../spam.p\", 500, \"Spamassassin dataset\", 250)\n",
    "buildTesting(\"../Enron/ham.p\", \"../Enron/spam.p\", 500, \"Enron dataset\", 250)"
   ]
  },
  {
   "cell_type": "code",
   "execution_count": null,
   "metadata": {
    "collapsed": true
   },
   "outputs": [],
   "source": []
  }
 ],
 "metadata": {
  "kernelspec": {
   "display_name": "Python 2",
   "language": "python",
   "name": "python2"
  },
  "language_info": {
   "codemirror_mode": {
    "name": "ipython",
    "version": 2
   },
   "file_extension": ".py",
   "mimetype": "text/x-python",
   "name": "python",
   "nbconvert_exporter": "python",
   "pygments_lexer": "ipython2",
   "version": "2.7.9"
  }
 },
 "nbformat": 4,
 "nbformat_minor": 2
}
