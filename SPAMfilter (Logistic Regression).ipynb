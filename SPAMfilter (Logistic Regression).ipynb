{
 "cells": [
  {
   "cell_type": "code",
   "execution_count": 3,
   "metadata": {
    "collapsed": true
   },
   "outputs": [],
   "source": [
    "import os\n",
    "import pickle\n",
    "import math\n",
    "import gc\n",
    "\n",
    "from Parser import *\n",
    "from Classifier import *\n",
    "from DictionaryUtils import *"
   ]
  },
  {
   "cell_type": "code",
   "execution_count": 4,
   "metadata": {
    "collapsed": true
   },
   "outputs": [],
   "source": [
    "class PickledDataProcessing:\n",
    "    #Expand the database from a given pickled file. Merge every mergeAfter messages.\n",
    "    @staticmethod\n",
    "    def crawlMails(dictionary, frequency, dump, breakAfter = -1, mergeAfter = 10000):\n",
    "        i = 0\n",
    "        j = 0\n",
    "        data = pickle.load(open( dump, \"rb\" ))\n",
    "        files = []\n",
    "        for text in data:\n",
    "            content = (ParserDictionary.stripHeaders(text)).lower()\n",
    "            files.append(content)\n",
    "            if i == breakAfter:\n",
    "                break;\n",
    "            if j == mergeAfter:\n",
    "                dictionary, frequency = DictionaryMI.createDictionary(dictionary, frequency, files)\n",
    "                del(files)\n",
    "                files = []\n",
    "                j = -1\n",
    "            i+=1        \n",
    "            j+=1\n",
    "        dictionary, frequency = DictionaryMI.createDictionary(dictionary, frequency, files)\n",
    "        return dictionary, frequency\n",
    "    \n",
    "    #Load file from given databases. Return it as an input data for classifier parsed with a given parser.\n",
    "    @staticmethod\n",
    "    def loadMails(parser, pickledFile, count = -1):\n",
    "        msgs = []\n",
    "        ctr = 0\n",
    "        for i in pickle.load(open( pickledFile, \"rb\" )):\n",
    "            msgs.append(parser.parseEmail(i))\n",
    "            if (count != -1):\n",
    "                if ctr == count:\n",
    "                    break\n",
    "                ctr += 1\n",
    "                \n",
    "        return msgs\n",
    "        \n",
    "    #Build a dictionary (array) containing all words from given datasets.\n",
    "    @staticmethod\n",
    "    def extractDictionary(pickledData, amount = 2000):\n",
    "        d, f = [], []\n",
    "        for x in pickledData:\n",
    "            d, f = PickledDataProcessing.crawlMails(d, f, x, breakAfter = amount)\n",
    "        return d, f"
   ]
  },
  {
   "cell_type": "markdown",
   "metadata": {},
   "source": []
  },
  {
   "cell_type": "code",
   "execution_count": 5,
   "metadata": {
    "collapsed": true
   },
   "outputs": [],
   "source": [
    "#Evaluate the quality of a given classifier on several saved datasets.\n",
    "def evaluateDataset(classifier, parser, pickledDataset, amount = -1):\n",
    "    i = 0\n",
    "    ctr = 0\n",
    "    dataset = pickle.load(open(pickledDataset, \"rb\"))\n",
    "    for x in dataset:\n",
    "        if classifier.evaluate(parser.parseEmail(x)) > 0:\n",
    "            i += 1\n",
    "        ctr += 1\n",
    "        if amount == ctr:\n",
    "            break\n",
    "    if amount == -1:\n",
    "        print \"Dataset length: \" + str(len(dataset))\n",
    "    else:\n",
    "        print \"Dataset length: \" + str(min(len(dataset), amount))\n",
    "    print str(100 * i / ctr) + \"% of given datased was classified as positive!\\n\\r\"\n",
    "    \n",
    "def testClassifier(classifier, parser, label = \"\", amount = -1):\n",
    "    print \"***************\"+ label +\"***************\"\n",
    "    print \"Spamassassin HAM\"\n",
    "    evaluateDataset(classifier, parser, \"../ham.p\", amount)\n",
    "    gc.collect()\n",
    "    print \"Spamassassin SPAM\"\n",
    "    evaluateDataset(classifier, parser, \"../spam.p\", amount)\n",
    "    gc.collect()\n",
    "    print \"Enron HAM\"\n",
    "    evaluateDataset(classifier, parser, \"../Enron/ham.p\", amount)\n",
    "    gc.collect()\n",
    "    print \"Enron SPAM\"\n",
    "    evaluateDataset(classifier, parser, \"../Enron/spam.p\", amount)\n",
    "    gc.collect()\n",
    "    print \"SPAM dataset\"\n",
    "    #evaluateDataset(classifier, parser, \"../SPAM/01.p\")\n",
    "    gc.collect()\n",
    "    print \"Classifier evaluation DONE\"\n",
    "    print \"***************\"+ label +\"***************\""
   ]
  },
  {
   "cell_type": "code",
   "execution_count": 6,
   "metadata": {
    "collapsed": true
   },
   "outputs": [],
   "source": [
    "import sys\n",
    "import resource\n",
    "\n",
    "soft, hard = 5.0 * 10**9, 5.0 * 10**9\n",
    "resource.setrlimit(resource.RLIMIT_AS,(soft, hard))"
   ]
  },
  {
   "cell_type": "code",
   "execution_count": 10,
   "metadata": {
    "collapsed": true
   },
   "outputs": [],
   "source": [
    "def buildTesting(pHam, pSpam, learningDataset = 500, label = \"\", dictLength = 250):    \n",
    "    dHam, fHam = PickledDataProcessing.extractDictionary([pHam], learningDataset)\n",
    "    dSpam, fSpam = PickledDataProcessing.extractDictionary([pSpam], learningDataset)\n",
    "    print \"Frequencies/Dictionaries loaded\"\n",
    "\n",
    "    optimziedDictionary = DictionaryMI.filterDictionary(dSpam, fSpam, dHam, fHam)[0:dictLength]\n",
    "    parser = ParserDictionary(optimziedDictionary)\n",
    "\n",
    "    spam = PickledDataProcessing.loadMails(parser, pSpam, learningDataset)\n",
    "    ham = PickledDataProcessing.loadMails(parser, pHam, learningDataset)\n",
    "    print \"Prepared spam/ham\"\n",
    "    \n",
    "    #classifier = LogisticClassifier(spam + ham, [1] * len(spam) + [0] * len(ham))\n",
    "    classifier = SVMClassifier(spam + ham, [1] * len(spam) + [0] * len(ham))\n",
    "    #testClassifier(classifier, parser, label, 10000)\n",
    "    return classifier, parser"
   ]
  },
  {
   "cell_type": "code",
   "execution_count": 30,
   "metadata": {
    "collapsed": true
   },
   "outputs": [],
   "source": [
    "#buildTesting(\"../ham.p\", \"../spam.p\", 100, \"Spamassassin dataset\", 250)\n",
    "#buildTesting(\"../Enron/ham.p\", \"../Enron/spam.p\", 100, \"Enron dataset\", 250)"
   ]
  },
  {
   "cell_type": "code",
   "execution_count": 13,
   "metadata": {
    "collapsed": true
   },
   "outputs": [],
   "source": [
    "def buildTesting(pHam, pSpam, learningDataset = 500, dictLength = 250):    \n",
    "    def openPickledMails(filename, processFn, count = 500):\n",
    "        mails = pickle.load(open(filename, \"rb\"))[:count]\n",
    "        return map(processFn, mails)\n",
    "    \n",
    "    dHam, fHam = DictionaryMI.createDictionary(openPickledMails(pHam, ParserDictionary.stripHeaders, learningDataset), [], [])\n",
    "    dSpam, fSpam = DictionaryMI.createDictionary(openPickledMails(pSpam, ParserDictionary.stripHeaders, learningDataset), [], [])\n",
    "    print \"Frequencies/Dictionaries loaded\"\n",
    "\n",
    "    optimziedDictionary = DictionaryMI.filterDictionary(dSpam, fSpam, dHam, fHam)[:dictLength]\n",
    "    parser = ParserDictionary(optimziedDictionary)\n",
    "\n",
    "    spam = PickledDataProcessing.loadMails(parser, pSpam, learningDataset)\n",
    "    ham = PickledDataProcessing.loadMails(parser, pHam, learningDataset)\n",
    "    print \"Prepared spam/ham\"\n",
    "    \n",
    "    classifier = LogisticClassifier(spam + ham, [1] * len(spam) + [0] * len(ham))\n",
    "    #classifier = SVMClassifier(spam + ham, [1] * len(spam) + [0] * len(ham))\n",
    "    testClassifier(classifier, parser, \"label\", 10000)\n",
    "    return classifier, parser"
   ]
  },
  {
   "cell_type": "code",
   "execution_count": 15,
   "metadata": {
    "collapsed": false
   },
   "outputs": [
    {
     "name": "stdout",
     "output_type": "stream",
     "text": [
      "Frequencies/Dictionaries loaded\n",
      "Prepared spam/ham\n",
      "***************label***************\n",
      "Spamassassin HAM\n",
      "Dataset length: 2752\n",
      "8% of given datased was classified as positive!\n",
      "\n",
      "Spamassassin SPAM\n",
      "Dataset length: 501\n",
      "98% of given datased was classified as positive!\n",
      "\n",
      "Enron HAM\n",
      "Dataset length: 10000\n",
      "32% of given datased was classified as positive!\n",
      "\n",
      "Enron SPAM\n",
      "Dataset length: 4502\n",
      "52% of given datased was classified as positive!\n",
      "\n",
      "SPAM dataset\n",
      "Classifier evaluation DONE\n",
      "***************label***************\n"
     ]
    }
   ],
   "source": [
    "classifier, parser = buildTesting(\"../ham.p\", \"../spam.p\")"
   ]
  },
  {
   "cell_type": "code",
   "execution_count": null,
   "metadata": {
    "collapsed": true
   },
   "outputs": [],
   "source": []
  }
 ],
 "metadata": {
  "kernelspec": {
   "display_name": "Python 2",
   "language": "python",
   "name": "python2"
  },
  "language_info": {
   "codemirror_mode": {
    "name": "ipython",
    "version": 2
   },
   "file_extension": ".py",
   "mimetype": "text/x-python",
   "name": "python",
   "nbconvert_exporter": "python",
   "pygments_lexer": "ipython2",
   "version": "2.7.13"
  }
 },
 "nbformat": 4,
 "nbformat_minor": 2
}
